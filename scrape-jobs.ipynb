{
 "cells": [
  {
   "cell_type": "code",
   "execution_count": 1,
   "metadata": {},
   "outputs": [],
   "source": [
    "import pandas as pd\n",
    "import requests\n",
    "from bs4 import BeautifulSoup as bs\n",
    "\n",
    "# make sure Google Sheets API is enabled\n",
    "# https://developers.google.com/sheets/api/quickstart/python\n",
    "# pip install --upgrade google-api-python-client google-auth-httplib2 google-auth-oauthlib"
   ]
  },
  {
   "cell_type": "code",
   "execution_count": 2,
   "metadata": {},
   "outputs": [],
   "source": [
    "result = requests.get(\"https://jobs.lever.co/aquicore\")\n",
    "c = result.content\n",
    "soup = bs(c)"
   ]
  },
  {
   "cell_type": "markdown",
   "metadata": {},
   "source": [
    "Let's see if we can grab the titles from the *h5* tags. "
   ]
  },
  {
   "cell_type": "code",
   "execution_count": 3,
   "metadata": {},
   "outputs": [
    {
     "data": {
      "text/plain": [
       "[<h5>Account Executive</h5>,\n",
       " <h5>Solutions Architect</h5>,\n",
       " <h5>Data Scientist</h5>,\n",
       " <h5>Embedded Software Engineer</h5>,\n",
       " <h5>Full Stack Software Engineer</h5>,\n",
       " <h5>Product Manager</h5>,\n",
       " <h5>Quality Engineer</h5>,\n",
       " <h5>Technical Support Engineer</h5>]"
      ]
     },
     "execution_count": 3,
     "metadata": {},
     "output_type": "execute_result"
    }
   ],
   "source": [
    "titles = soup.find_all('h5')\n",
    "titles"
   ]
  },
  {
   "cell_type": "markdown",
   "metadata": {},
   "source": [
    "Cool - that worked."
   ]
  },
  {
   "cell_type": "markdown",
   "metadata": {},
   "source": [
    "Now let's give them numbers."
   ]
  },
  {
   "cell_type": "code",
   "execution_count": 4,
   "metadata": {},
   "outputs": [
    {
     "data": {
      "text/plain": [
       "['Account Executive',\n",
       " 'Solutions Architect',\n",
       " 'Data Scientist',\n",
       " 'Embedded Software Engineer',\n",
       " 'Full Stack Software Engineer',\n",
       " 'Product Manager',\n",
       " 'Quality Engineer',\n",
       " 'Technical Support Engineer']"
      ]
     },
     "execution_count": 4,
     "metadata": {},
     "output_type": "execute_result"
    }
   ],
   "source": [
    "l_titles = [title.text.strip() for title in titles]\n",
    "l_titles"
   ]
  },
  {
   "cell_type": "markdown",
   "metadata": {},
   "source": [
    "Alright. Let's read that into a DataFrame. "
   ]
  },
  {
   "cell_type": "code",
   "execution_count": 5,
   "metadata": {},
   "outputs": [
    {
     "data": {
      "text/html": [
       "<div>\n",
       "<style scoped>\n",
       "    .dataframe tbody tr th:only-of-type {\n",
       "        vertical-align: middle;\n",
       "    }\n",
       "\n",
       "    .dataframe tbody tr th {\n",
       "        vertical-align: top;\n",
       "    }\n",
       "\n",
       "    .dataframe thead th {\n",
       "        text-align: right;\n",
       "    }\n",
       "</style>\n",
       "<table border=\"1\" class=\"dataframe\">\n",
       "  <thead>\n",
       "    <tr style=\"text-align: right;\">\n",
       "      <th></th>\n",
       "      <th>Position</th>\n",
       "      <th>Company</th>\n",
       "    </tr>\n",
       "  </thead>\n",
       "  <tbody>\n",
       "    <tr>\n",
       "      <th>0</th>\n",
       "      <td>Account Executive</td>\n",
       "      <td>Aquicore</td>\n",
       "    </tr>\n",
       "    <tr>\n",
       "      <th>1</th>\n",
       "      <td>Solutions Architect</td>\n",
       "      <td>Aquicore</td>\n",
       "    </tr>\n",
       "    <tr>\n",
       "      <th>2</th>\n",
       "      <td>Data Scientist</td>\n",
       "      <td>Aquicore</td>\n",
       "    </tr>\n",
       "    <tr>\n",
       "      <th>3</th>\n",
       "      <td>Embedded Software Engineer</td>\n",
       "      <td>Aquicore</td>\n",
       "    </tr>\n",
       "    <tr>\n",
       "      <th>4</th>\n",
       "      <td>Full Stack Software Engineer</td>\n",
       "      <td>Aquicore</td>\n",
       "    </tr>\n",
       "    <tr>\n",
       "      <th>5</th>\n",
       "      <td>Product Manager</td>\n",
       "      <td>Aquicore</td>\n",
       "    </tr>\n",
       "    <tr>\n",
       "      <th>6</th>\n",
       "      <td>Quality Engineer</td>\n",
       "      <td>Aquicore</td>\n",
       "    </tr>\n",
       "    <tr>\n",
       "      <th>7</th>\n",
       "      <td>Technical Support Engineer</td>\n",
       "      <td>Aquicore</td>\n",
       "    </tr>\n",
       "  </tbody>\n",
       "</table>\n",
       "</div>"
      ],
      "text/plain": [
       "                       Position   Company\n",
       "0             Account Executive  Aquicore\n",
       "1           Solutions Architect  Aquicore\n",
       "2                Data Scientist  Aquicore\n",
       "3    Embedded Software Engineer  Aquicore\n",
       "4  Full Stack Software Engineer  Aquicore\n",
       "5               Product Manager  Aquicore\n",
       "6              Quality Engineer  Aquicore\n",
       "7    Technical Support Engineer  Aquicore"
      ]
     },
     "execution_count": 5,
     "metadata": {},
     "output_type": "execute_result"
    }
   ],
   "source": [
    "df = pd.DataFrame(l_titles)\n",
    "df.columns=['Position']\n",
    "df['Company'] = 'Aquicore'\n",
    "df"
   ]
  },
  {
   "cell_type": "markdown",
   "metadata": {},
   "source": [
    "Now let's get the location and add it as a new column."
   ]
  },
  {
   "cell_type": "code",
   "execution_count": 32,
   "metadata": {},
   "outputs": [
    {
     "data": {
      "text/plain": [
       "[<span class=\"sort-by-location posting-category small-category-label\" href=\"#\">Washington, DC</span>,\n",
       " <span class=\"sort-by-location posting-category small-category-label\" href=\"#\">Washington, DC</span>,\n",
       " <span class=\"sort-by-location posting-category small-category-label\" href=\"#\">Washington, DC</span>,\n",
       " <span class=\"sort-by-location posting-category small-category-label\" href=\"#\">Washington, DC</span>,\n",
       " <span class=\"sort-by-location posting-category small-category-label\" href=\"#\">Washington, DC</span>,\n",
       " <span class=\"sort-by-location posting-category small-category-label\" href=\"#\">Washington, DC</span>,\n",
       " <span class=\"sort-by-location posting-category small-category-label\" href=\"#\">Washington, DC</span>,\n",
       " <span class=\"sort-by-location posting-category small-category-label\" href=\"#\">Washington, DC</span>]"
      ]
     },
     "execution_count": 32,
     "metadata": {},
     "output_type": "execute_result"
    }
   ],
   "source": [
    "class_loc = soup.find_all(class_=\"sort-by-location\")\n",
    "class_loc"
   ]
  },
  {
   "cell_type": "markdown",
   "metadata": {},
   "source": [
    "Alright, we've got a match."
   ]
  },
  {
   "cell_type": "code",
   "execution_count": 16,
   "metadata": {},
   "outputs": [
    {
     "data": {
      "text/html": [
       "<div>\n",
       "<style scoped>\n",
       "    .dataframe tbody tr th:only-of-type {\n",
       "        vertical-align: middle;\n",
       "    }\n",
       "\n",
       "    .dataframe tbody tr th {\n",
       "        vertical-align: top;\n",
       "    }\n",
       "\n",
       "    .dataframe thead th {\n",
       "        text-align: right;\n",
       "    }\n",
       "</style>\n",
       "<table border=\"1\" class=\"dataframe\">\n",
       "  <thead>\n",
       "    <tr style=\"text-align: right;\">\n",
       "      <th></th>\n",
       "      <th>Position</th>\n",
       "      <th>Company</th>\n",
       "      <th>Location</th>\n",
       "    </tr>\n",
       "  </thead>\n",
       "  <tbody>\n",
       "    <tr>\n",
       "      <th>0</th>\n",
       "      <td>Account Executive</td>\n",
       "      <td>Aquicore</td>\n",
       "      <td>Washington, DC</td>\n",
       "    </tr>\n",
       "    <tr>\n",
       "      <th>1</th>\n",
       "      <td>Solutions Architect</td>\n",
       "      <td>Aquicore</td>\n",
       "      <td>Washington, DC</td>\n",
       "    </tr>\n",
       "    <tr>\n",
       "      <th>2</th>\n",
       "      <td>Data Scientist</td>\n",
       "      <td>Aquicore</td>\n",
       "      <td>Washington, DC</td>\n",
       "    </tr>\n",
       "    <tr>\n",
       "      <th>3</th>\n",
       "      <td>Embedded Software Engineer</td>\n",
       "      <td>Aquicore</td>\n",
       "      <td>Washington, DC</td>\n",
       "    </tr>\n",
       "    <tr>\n",
       "      <th>4</th>\n",
       "      <td>Full Stack Software Engineer</td>\n",
       "      <td>Aquicore</td>\n",
       "      <td>Washington, DC</td>\n",
       "    </tr>\n",
       "    <tr>\n",
       "      <th>5</th>\n",
       "      <td>Product Manager</td>\n",
       "      <td>Aquicore</td>\n",
       "      <td>Washington, DC</td>\n",
       "    </tr>\n",
       "    <tr>\n",
       "      <th>6</th>\n",
       "      <td>Quality Engineer</td>\n",
       "      <td>Aquicore</td>\n",
       "      <td>Washington, DC</td>\n",
       "    </tr>\n",
       "    <tr>\n",
       "      <th>7</th>\n",
       "      <td>Technical Support Engineer</td>\n",
       "      <td>Aquicore</td>\n",
       "      <td>Washington, DC</td>\n",
       "    </tr>\n",
       "  </tbody>\n",
       "</table>\n",
       "</div>"
      ],
      "text/plain": [
       "                       Position   Company        Location\n",
       "0             Account Executive  Aquicore  Washington, DC\n",
       "1           Solutions Architect  Aquicore  Washington, DC\n",
       "2                Data Scientist  Aquicore  Washington, DC\n",
       "3    Embedded Software Engineer  Aquicore  Washington, DC\n",
       "4  Full Stack Software Engineer  Aquicore  Washington, DC\n",
       "5               Product Manager  Aquicore  Washington, DC\n",
       "6              Quality Engineer  Aquicore  Washington, DC\n",
       "7    Technical Support Engineer  Aquicore  Washington, DC"
      ]
     },
     "execution_count": 16,
     "metadata": {},
     "output_type": "execute_result"
    }
   ],
   "source": [
    "df['Location'] = [lo.text.strip() for lo in class_loc]\n",
    "df"
   ]
  },
  {
   "cell_type": "markdown",
   "metadata": {},
   "source": [
    "Looking good. Let's see if we can make a function."
   ]
  },
  {
   "cell_type": "code",
   "execution_count": 14,
   "metadata": {},
   "outputs": [
    {
     "name": "stdout",
     "output_type": "stream",
     "text": [
      "                              Title       Locations        Company\n",
      "0                 Account Executive  Washington, DC       Aquicore\n",
      "1               Solutions Architect  Washington, DC       Aquicore\n",
      "2                    Data Scientist  Washington, DC       Aquicore\n",
      "3        Embedded Software Engineer  Washington, DC       Aquicore\n",
      "4      Full Stack Software Engineer  Washington, DC       Aquicore\n",
      "5                   Product Manager  Washington, DC       Aquicore\n",
      "6                  Quality Engineer  Washington, DC       Aquicore\n",
      "7        Technical Support Engineer  Washington, DC       Aquicore\n",
      "0                 Account Executive  Washington, DC  TransitScreen\n",
      "1  Sales Development Representative  Washington, DC  TransitScreen\n",
      "2         Senior Front-End Engineer  Washington, DC  TransitScreen\n"
     ]
    }
   ],
   "source": [
    "def get_jobs(c_list):\n",
    "    \"\"\"\n",
    "    Scrape the job listings from company websites\n",
    "    Put the key info in a DataFrame\n",
    "    \n",
    "    Parameters:\n",
    "    c_list (list of dicts): contains company info for scraping\n",
    "    company (str): company name\n",
    "    url (str): url of the job listing webpage\n",
    "    title_tag (str): the html identifier for the titles\n",
    "    location_tag (str): the html identifier for the location_tag\n",
    "    \n",
    "    Returns: \n",
    "    big_df (pandas DataFrame) The results in a DataFrame\n",
    "    \"\"\"\n",
    "    big_df = pd.DataFrame()\n",
    "    \n",
    "    # loop through list of dicts\n",
    "    for c_dict in c_list:\n",
    "        df = pd.DataFrame()\n",
    "    \n",
    "        soup = bs(requests.get(c_dict['url']).content)\n",
    "\n",
    "\n",
    "         # TODO refactor so can handle any tag or class \n",
    "        titles = soup.find_all(c_dict['title_tag'])\n",
    "        df['Title'] = [title.text.strip() for title in titles]\n",
    "\n",
    "        # TODO refactor so can handle nay tag or class \n",
    "        class_loc = soup.find_all(class_=c_dict['location_class'])\n",
    "        df['Locations'] = [lo.text.strip() for lo in class_loc]\n",
    "        \n",
    "        df['Company'] = c_dict['company']\n",
    "        \n",
    "        big_df = big_df.append(df)\n",
    "    \n",
    "    return(big_df)\n",
    "\n",
    "# list of company dicts\n",
    "c_list = [] \n",
    "\n",
    "\n",
    "# dict for each website\n",
    "dict1 = {  \n",
    "    \"company\": \"Aquicore\",\n",
    "    \"url\": \"https://jobs.lever.co/aquicore\",\n",
    "    \"title_tag\": ('h5'),\n",
    "    \"location_class\": 'sort-by-location'\n",
    "}\n",
    "\n",
    "c_list.append(c_dict)\n",
    "\n",
    "dict2 = {  \n",
    "    \"company\": \"TransitScreen\",\n",
    "    \"url\": \"https://jobs.lever.co/transitscreen\",\n",
    "    \"title_tag\": ('h5'),\n",
    "    \"location_class\": 'sort-by-location'\n",
    "}\n",
    "\n",
    "c_list.append(dict2)\n",
    "\n",
    "\n",
    "df_all = get_jobs(c_list)\n",
    "\n",
    "print(df_all)   \n",
    "# TODO write DataFrame to csv - later S3 bucket with timestamp\n",
    "    \n"
   ]
  },
  {
   "cell_type": "code",
   "execution_count": null,
   "metadata": {},
   "outputs": [],
   "source": []
  }
 ],
 "metadata": {
  "kernelspec": {
   "display_name": "Python 3",
   "language": "python",
   "name": "python3"
  },
  "language_info": {
   "codemirror_mode": {
    "name": "ipython",
    "version": 3
   },
   "file_extension": ".py",
   "mimetype": "text/x-python",
   "name": "python",
   "nbconvert_exporter": "python",
   "pygments_lexer": "ipython3",
   "version": "3.7.2"
  }
 },
 "nbformat": 4,
 "nbformat_minor": 2
}
