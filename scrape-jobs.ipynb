{
 "cells": [
  {
   "cell_type": "code",
   "execution_count": 2,
   "metadata": {},
   "outputs": [],
   "source": [
    "import pandas as pd\n",
    "import numpy as np\n",
    "import requests\n",
    "from bs4 import BeautifulSoup as bs\n",
    "\n",
    "from googleapiclient.discovery import build\n",
    "from google_auth_oauthlib.flow import InstalledAppFlow\n",
    "from google.auth.transport.requests import Request\n",
    "\n",
    "# make sure Google Sheets API is enabled\n",
    "# https://developers.google.com/sheets/api/quickstart/python\n",
    "# pip install --upgrade google-api-python-client google-auth-httplib2 google-auth-oauthlib"
   ]
  },
  {
   "cell_type": "code",
   "execution_count": 2,
   "metadata": {},
   "outputs": [],
   "source": [
    "result = requests.get(\"https://jobs.lever.co/aquicore\")\n",
    "c = result.content\n",
    "soup = bs(c)"
   ]
  },
  {
   "cell_type": "markdown",
   "metadata": {},
   "source": [
    "Let's see if we can grab the titles from the *h5* tags. "
   ]
  },
  {
   "cell_type": "code",
   "execution_count": 3,
   "metadata": {},
   "outputs": [
    {
     "data": {
      "text/plain": [
       "[<h5>Account Executive</h5>,\n",
       " <h5>Solutions Architect</h5>,\n",
       " <h5>Data Scientist</h5>,\n",
       " <h5>Embedded Software Engineer</h5>,\n",
       " <h5>Full Stack Software Engineer</h5>,\n",
       " <h5>Product Manager</h5>,\n",
       " <h5>Quality Engineer</h5>,\n",
       " <h5>Technical Support Engineer</h5>]"
      ]
     },
     "execution_count": 3,
     "metadata": {},
     "output_type": "execute_result"
    }
   ],
   "source": [
    "titles = soup.find_all('h5')\n",
    "titles"
   ]
  },
  {
   "cell_type": "markdown",
   "metadata": {},
   "source": [
    "Cool - that worked."
   ]
  },
  {
   "cell_type": "markdown",
   "metadata": {},
   "source": [
    "Now let's give them numbers."
   ]
  },
  {
   "cell_type": "code",
   "execution_count": 4,
   "metadata": {},
   "outputs": [
    {
     "data": {
      "text/plain": [
       "['Account Executive',\n",
       " 'Solutions Architect',\n",
       " 'Data Scientist',\n",
       " 'Embedded Software Engineer',\n",
       " 'Full Stack Software Engineer',\n",
       " 'Product Manager',\n",
       " 'Quality Engineer',\n",
       " 'Technical Support Engineer']"
      ]
     },
     "execution_count": 4,
     "metadata": {},
     "output_type": "execute_result"
    }
   ],
   "source": [
    "l_titles = [title.text.strip() for title in titles]\n",
    "l_titles"
   ]
  },
  {
   "cell_type": "markdown",
   "metadata": {},
   "source": [
    "Alright. Let's read that into a DataFrame. "
   ]
  },
  {
   "cell_type": "code",
   "execution_count": 5,
   "metadata": {},
   "outputs": [
    {
     "data": {
      "text/html": [
       "<div>\n",
       "<style scoped>\n",
       "    .dataframe tbody tr th:only-of-type {\n",
       "        vertical-align: middle;\n",
       "    }\n",
       "\n",
       "    .dataframe tbody tr th {\n",
       "        vertical-align: top;\n",
       "    }\n",
       "\n",
       "    .dataframe thead th {\n",
       "        text-align: right;\n",
       "    }\n",
       "</style>\n",
       "<table border=\"1\" class=\"dataframe\">\n",
       "  <thead>\n",
       "    <tr style=\"text-align: right;\">\n",
       "      <th></th>\n",
       "      <th>Position</th>\n",
       "      <th>Company</th>\n",
       "    </tr>\n",
       "  </thead>\n",
       "  <tbody>\n",
       "    <tr>\n",
       "      <th>0</th>\n",
       "      <td>Account Executive</td>\n",
       "      <td>Aquicore</td>\n",
       "    </tr>\n",
       "    <tr>\n",
       "      <th>1</th>\n",
       "      <td>Solutions Architect</td>\n",
       "      <td>Aquicore</td>\n",
       "    </tr>\n",
       "    <tr>\n",
       "      <th>2</th>\n",
       "      <td>Data Scientist</td>\n",
       "      <td>Aquicore</td>\n",
       "    </tr>\n",
       "    <tr>\n",
       "      <th>3</th>\n",
       "      <td>Embedded Software Engineer</td>\n",
       "      <td>Aquicore</td>\n",
       "    </tr>\n",
       "    <tr>\n",
       "      <th>4</th>\n",
       "      <td>Full Stack Software Engineer</td>\n",
       "      <td>Aquicore</td>\n",
       "    </tr>\n",
       "    <tr>\n",
       "      <th>5</th>\n",
       "      <td>Product Manager</td>\n",
       "      <td>Aquicore</td>\n",
       "    </tr>\n",
       "    <tr>\n",
       "      <th>6</th>\n",
       "      <td>Quality Engineer</td>\n",
       "      <td>Aquicore</td>\n",
       "    </tr>\n",
       "    <tr>\n",
       "      <th>7</th>\n",
       "      <td>Technical Support Engineer</td>\n",
       "      <td>Aquicore</td>\n",
       "    </tr>\n",
       "  </tbody>\n",
       "</table>\n",
       "</div>"
      ],
      "text/plain": [
       "                       Position   Company\n",
       "0             Account Executive  Aquicore\n",
       "1           Solutions Architect  Aquicore\n",
       "2                Data Scientist  Aquicore\n",
       "3    Embedded Software Engineer  Aquicore\n",
       "4  Full Stack Software Engineer  Aquicore\n",
       "5               Product Manager  Aquicore\n",
       "6              Quality Engineer  Aquicore\n",
       "7    Technical Support Engineer  Aquicore"
      ]
     },
     "execution_count": 5,
     "metadata": {},
     "output_type": "execute_result"
    }
   ],
   "source": [
    "df = pd.DataFrame(l_titles)\n",
    "df.columns=['Position']\n",
    "df['Company'] = 'Aquicore'\n",
    "df"
   ]
  },
  {
   "cell_type": "markdown",
   "metadata": {},
   "source": [
    "Now let's get the location and add it as a new column."
   ]
  },
  {
   "cell_type": "code",
   "execution_count": 32,
   "metadata": {},
   "outputs": [
    {
     "data": {
      "text/plain": [
       "[<span class=\"sort-by-location posting-category small-category-label\" href=\"#\">Washington, DC</span>,\n",
       " <span class=\"sort-by-location posting-category small-category-label\" href=\"#\">Washington, DC</span>,\n",
       " <span class=\"sort-by-location posting-category small-category-label\" href=\"#\">Washington, DC</span>,\n",
       " <span class=\"sort-by-location posting-category small-category-label\" href=\"#\">Washington, DC</span>,\n",
       " <span class=\"sort-by-location posting-category small-category-label\" href=\"#\">Washington, DC</span>,\n",
       " <span class=\"sort-by-location posting-category small-category-label\" href=\"#\">Washington, DC</span>,\n",
       " <span class=\"sort-by-location posting-category small-category-label\" href=\"#\">Washington, DC</span>,\n",
       " <span class=\"sort-by-location posting-category small-category-label\" href=\"#\">Washington, DC</span>]"
      ]
     },
     "execution_count": 32,
     "metadata": {},
     "output_type": "execute_result"
    }
   ],
   "source": [
    "class_loc = soup.find_all(class_=\"sort-by-location\")\n",
    "class_loc"
   ]
  },
  {
   "cell_type": "markdown",
   "metadata": {},
   "source": [
    "Alright, we've got a match."
   ]
  },
  {
   "cell_type": "code",
   "execution_count": 16,
   "metadata": {},
   "outputs": [
    {
     "data": {
      "text/html": [
       "<div>\n",
       "<style scoped>\n",
       "    .dataframe tbody tr th:only-of-type {\n",
       "        vertical-align: middle;\n",
       "    }\n",
       "\n",
       "    .dataframe tbody tr th {\n",
       "        vertical-align: top;\n",
       "    }\n",
       "\n",
       "    .dataframe thead th {\n",
       "        text-align: right;\n",
       "    }\n",
       "</style>\n",
       "<table border=\"1\" class=\"dataframe\">\n",
       "  <thead>\n",
       "    <tr style=\"text-align: right;\">\n",
       "      <th></th>\n",
       "      <th>Position</th>\n",
       "      <th>Company</th>\n",
       "      <th>Location</th>\n",
       "    </tr>\n",
       "  </thead>\n",
       "  <tbody>\n",
       "    <tr>\n",
       "      <th>0</th>\n",
       "      <td>Account Executive</td>\n",
       "      <td>Aquicore</td>\n",
       "      <td>Washington, DC</td>\n",
       "    </tr>\n",
       "    <tr>\n",
       "      <th>1</th>\n",
       "      <td>Solutions Architect</td>\n",
       "      <td>Aquicore</td>\n",
       "      <td>Washington, DC</td>\n",
       "    </tr>\n",
       "    <tr>\n",
       "      <th>2</th>\n",
       "      <td>Data Scientist</td>\n",
       "      <td>Aquicore</td>\n",
       "      <td>Washington, DC</td>\n",
       "    </tr>\n",
       "    <tr>\n",
       "      <th>3</th>\n",
       "      <td>Embedded Software Engineer</td>\n",
       "      <td>Aquicore</td>\n",
       "      <td>Washington, DC</td>\n",
       "    </tr>\n",
       "    <tr>\n",
       "      <th>4</th>\n",
       "      <td>Full Stack Software Engineer</td>\n",
       "      <td>Aquicore</td>\n",
       "      <td>Washington, DC</td>\n",
       "    </tr>\n",
       "    <tr>\n",
       "      <th>5</th>\n",
       "      <td>Product Manager</td>\n",
       "      <td>Aquicore</td>\n",
       "      <td>Washington, DC</td>\n",
       "    </tr>\n",
       "    <tr>\n",
       "      <th>6</th>\n",
       "      <td>Quality Engineer</td>\n",
       "      <td>Aquicore</td>\n",
       "      <td>Washington, DC</td>\n",
       "    </tr>\n",
       "    <tr>\n",
       "      <th>7</th>\n",
       "      <td>Technical Support Engineer</td>\n",
       "      <td>Aquicore</td>\n",
       "      <td>Washington, DC</td>\n",
       "    </tr>\n",
       "  </tbody>\n",
       "</table>\n",
       "</div>"
      ],
      "text/plain": [
       "                       Position   Company        Location\n",
       "0             Account Executive  Aquicore  Washington, DC\n",
       "1           Solutions Architect  Aquicore  Washington, DC\n",
       "2                Data Scientist  Aquicore  Washington, DC\n",
       "3    Embedded Software Engineer  Aquicore  Washington, DC\n",
       "4  Full Stack Software Engineer  Aquicore  Washington, DC\n",
       "5               Product Manager  Aquicore  Washington, DC\n",
       "6              Quality Engineer  Aquicore  Washington, DC\n",
       "7    Technical Support Engineer  Aquicore  Washington, DC"
      ]
     },
     "execution_count": 16,
     "metadata": {},
     "output_type": "execute_result"
    }
   ],
   "source": [
    "df['Location'] = [lo.text.strip() for lo in class_loc]\n",
    "df"
   ]
  },
  {
   "cell_type": "markdown",
   "metadata": {},
   "source": [
    "Looking good. Let's see if we can make a function."
   ]
  },
  {
   "cell_type": "code",
   "execution_count": 14,
   "metadata": {},
   "outputs": [
    {
     "name": "stdout",
     "output_type": "stream",
     "text": [
      "                              Title       Locations        Company\n",
      "0                 Account Executive  Washington, DC       Aquicore\n",
      "1               Solutions Architect  Washington, DC       Aquicore\n",
      "2                    Data Scientist  Washington, DC       Aquicore\n",
      "3        Embedded Software Engineer  Washington, DC       Aquicore\n",
      "4      Full Stack Software Engineer  Washington, DC       Aquicore\n",
      "5                   Product Manager  Washington, DC       Aquicore\n",
      "6                  Quality Engineer  Washington, DC       Aquicore\n",
      "7        Technical Support Engineer  Washington, DC       Aquicore\n",
      "0                 Account Executive  Washington, DC  TransitScreen\n",
      "1  Sales Development Representative  Washington, DC  TransitScreen\n",
      "2         Senior Front-End Engineer  Washington, DC  TransitScreen\n"
     ]
    }
   ],
   "source": [
    "def get_jobs(c_list):\n",
    "    \"\"\"\n",
    "    Scrape the job listings from company websites\n",
    "    Put the key info in a DataFrame\n",
    "    \n",
    "    Parameters:\n",
    "    c_list (list of dicts): contains company info for scraping\n",
    "    company (str): company name\n",
    "    url (str): url of the job listing webpage\n",
    "    title_tag (str): the html identifier for the titles\n",
    "    location_tag (str): the html identifier for the location_tag\n",
    "    \n",
    "    Returns: \n",
    "    big_df (pandas DataFrame) The results in a DataFrame\n",
    "    \"\"\"\n",
    "    big_df = pd.DataFrame()\n",
    "    \n",
    "    # loop through list of dicts\n",
    "    for c_dict in c_list:\n",
    "        df = pd.DataFrame()\n",
    "    \n",
    "        soup = bs(requests.get(c_dict['url']).content)\n",
    "\n",
    "\n",
    "         # TODO refactor so can handle any tag or class \n",
    "        titles = soup.find_all(c_dict['title_tag'])\n",
    "        df['Title'] = [title.text.strip() for title in titles]\n",
    "\n",
    "        # TODO refactor so can handle nay tag or class \n",
    "        class_loc = soup.find_all(class_=c_dict['location_class'])\n",
    "        df['Locations'] = [lo.text.strip() for lo in class_loc]\n",
    "        \n",
    "        df['Company'] = c_dict['company']\n",
    "        \n",
    "        big_df = big_df.append(df)\n",
    "    \n",
    "    return(big_df)\n",
    "\n",
    "# list of company dicts\n",
    "c_list = [] \n",
    "\n",
    "\n",
    "# dict for each website\n",
    "dict1 = {  \n",
    "    \"company\": \"Aquicore\",\n",
    "    \"url\": \"https://jobs.lever.co/aquicore\",\n",
    "    \"title_class\": None,\n",
    "    \"title_tag\": 'h5',\n",
    "    \"location_class\": 'sort-by-location'\n",
    "    \"location-tag\": None,\n",
    "}\n",
    "\n",
    "c_list.append(c_dict)\n",
    "\n",
    "dict2 = {  \n",
    "    \"company\": \"TransitScreen\",\n",
    "    \"url\": \"https://jobs.lever.co/transitscreen\",\n",
    "    \"title_tag\": ('h5'),\n",
    "    \"location_class\": 'sort-by-location'\n",
    "}\n",
    "\n",
    "c_list.append(dict2)\n",
    "\n",
    "\n",
    "df_all = get_jobs(c_list)\n",
    "\n",
    "print(df_all)   \n",
    "# TODO write DataFrame to csv - later S3 bucket with timestamp\n",
    "    \n"
   ]
  },
  {
   "cell_type": "markdown",
   "metadata": {},
   "source": [
    "Read in csv"
   ]
  },
  {
   "cell_type": "code",
   "execution_count": 2,
   "metadata": {},
   "outputs": [
    {
     "data": {
      "text/html": [
       "<div>\n",
       "<style scoped>\n",
       "    .dataframe tbody tr th:only-of-type {\n",
       "        vertical-align: middle;\n",
       "    }\n",
       "\n",
       "    .dataframe tbody tr th {\n",
       "        vertical-align: top;\n",
       "    }\n",
       "\n",
       "    .dataframe thead th {\n",
       "        text-align: right;\n",
       "    }\n",
       "</style>\n",
       "<table border=\"1\" class=\"dataframe\">\n",
       "  <thead>\n",
       "    <tr style=\"text-align: right;\">\n",
       "      <th></th>\n",
       "      <th>Company</th>\n",
       "      <th>URL</th>\n",
       "      <th>title_tag</th>\n",
       "      <th>title_class</th>\n",
       "      <th>location_class</th>\n",
       "      <th>location_tag</th>\n",
       "    </tr>\n",
       "  </thead>\n",
       "  <tbody>\n",
       "    <tr>\n",
       "      <th>0</th>\n",
       "      <td>Aquicore</td>\n",
       "      <td>https://jobs.lever.co/aquicore</td>\n",
       "      <td>h5</td>\n",
       "      <td>NaN</td>\n",
       "      <td>sort-by-location</td>\n",
       "      <td>NaN</td>\n",
       "    </tr>\n",
       "    <tr>\n",
       "      <th>1</th>\n",
       "      <td>TransitScreen</td>\n",
       "      <td>https://jobs.lever.co/transitscreen</td>\n",
       "      <td>h5</td>\n",
       "      <td>NaN</td>\n",
       "      <td>sort-by-location</td>\n",
       "      <td>NaN</td>\n",
       "    </tr>\n",
       "    <tr>\n",
       "      <th>2</th>\n",
       "      <td>Swiftly</td>\n",
       "      <td>https://hire.withgoogle.com/public/jobs/goswiftly</td>\n",
       "      <td>NaN</td>\n",
       "      <td>ptor-jobs-list__item-title</td>\n",
       "      <td>ptor-jobs-list__item-location</td>\n",
       "      <td>NaN</td>\n",
       "    </tr>\n",
       "    <tr>\n",
       "      <th>3</th>\n",
       "      <td>HopSkipDrive</td>\n",
       "      <td>https://www.hopskipdrive.com/careers</td>\n",
       "      <td>NaN</td>\n",
       "      <td>resumator-job-title</td>\n",
       "      <td>\"resumator-job-info</td>\n",
       "      <td>NaN</td>\n",
       "    </tr>\n",
       "  </tbody>\n",
       "</table>\n",
       "</div>"
      ],
      "text/plain": [
       "         Company                                                URL title_tag  \\\n",
       "0       Aquicore                     https://jobs.lever.co/aquicore        h5   \n",
       "1  TransitScreen                https://jobs.lever.co/transitscreen        h5   \n",
       "2        Swiftly  https://hire.withgoogle.com/public/jobs/goswiftly       NaN   \n",
       "3   HopSkipDrive               https://www.hopskipdrive.com/careers       NaN   \n",
       "\n",
       "                  title_class                 location_class  location_tag  \n",
       "0                         NaN               sort-by-location           NaN  \n",
       "1                         NaN               sort-by-location           NaN  \n",
       "2  ptor-jobs-list__item-title  ptor-jobs-list__item-location           NaN  \n",
       "3         resumator-job-title            \"resumator-job-info           NaN  "
      ]
     },
     "execution_count": 2,
     "metadata": {},
     "output_type": "execute_result"
    }
   ],
   "source": [
    "dc = pd.read_csv('comp_info.csv')\n",
    "dc"
   ]
  },
  {
   "cell_type": "code",
   "execution_count": 3,
   "metadata": {},
   "outputs": [
    {
     "name": "stdout",
     "output_type": "stream",
     "text": [
      "<class 'pandas.core.frame.DataFrame'>\n",
      "RangeIndex: 4 entries, 0 to 3\n",
      "Data columns (total 6 columns):\n",
      "Company           4 non-null object\n",
      "URL               4 non-null object\n",
      "title_tag         2 non-null object\n",
      "title_class       2 non-null object\n",
      "location_class    4 non-null object\n",
      "location_tag      0 non-null float64\n",
      "dtypes: float64(1), object(5)\n",
      "memory usage: 272.0+ bytes\n"
     ]
    }
   ],
   "source": [
    "dc.info()"
   ]
  },
  {
   "cell_type": "code",
   "execution_count": 5,
   "metadata": {},
   "outputs": [
    {
     "name": "stdout",
     "output_type": "stream",
     "text": [
      "<class 'pandas.core.frame.DataFrame'>\n",
      "RangeIndex: 4 entries, 0 to 3\n",
      "Data columns (total 6 columns):\n",
      "Company           4 non-null object\n",
      "URL               4 non-null object\n",
      "title_tag         2 non-null object\n",
      "title_class       2 non-null object\n",
      "location_class    4 non-null object\n",
      "location_tag      4 non-null object\n",
      "dtypes: object(6)\n",
      "memory usage: 272.0+ bytes\n"
     ]
    }
   ],
   "source": [
    "dc['location_tag'] = dc.location_tag.astype(str)\n",
    "dc.info()"
   ]
  },
  {
   "cell_type": "code",
   "execution_count": 7,
   "metadata": {},
   "outputs": [
    {
     "data": {
      "text/plain": [
       "0     h5\n",
       "1     h5\n",
       "2    NaN\n",
       "3    NaN\n",
       "Name: title_tag, dtype: object"
      ]
     },
     "execution_count": 7,
     "metadata": {},
     "output_type": "execute_result"
    }
   ],
   "source": [
    "dc.title_tag"
   ]
  },
  {
   "cell_type": "code",
   "execution_count": 14,
   "metadata": {},
   "outputs": [
    {
     "data": {
      "text/plain": [
       "0   NaN\n",
       "1   NaN\n",
       "2   NaN\n",
       "3   NaN\n",
       "Name: location_tag, dtype: float64"
      ]
     },
     "execution_count": 14,
     "metadata": {},
     "output_type": "execute_result"
    }
   ],
   "source": [
    "dc.location_tag = np.NaN\n",
    "dc.location_tag"
   ]
  },
  {
   "cell_type": "code",
   "execution_count": null,
   "metadata": {},
   "outputs": [],
   "source": [
    "def get_jobs(c_list):\n",
    "    \"\"\"\n",
    "    Scrape the job listings from company websites\n",
    "    Put the key info in a DataFrame\n",
    "    \n",
    "    Parameters:\n",
    "    c_list (list of dicts): contains company info for scraping\n",
    "    company (str): company name\n",
    "    url (str): url of the job listing webpage\n",
    "    title_tag (str): the html identifier for the titles\n",
    "    location_tag (str): the html identifier for the location_tag\n",
    "    \n",
    "    Returns: \n",
    "    big_df (pandas DataFrame) The results in a DataFrame\n",
    "    \"\"\"\n",
    "    big_df = pd.DataFrame()\n",
    "    \n",
    "    # loop through list of dicts\n",
    "    for c_dict in c_list:\n",
    "        df = pd.DataFrame()\n",
    "    \n",
    "        soup = bs(requests.get(c_dict['url']).content)\n",
    "\n",
    "        \n",
    "        titles = soup.find_all(c_dict['title_tag'])\n",
    "        df['Title'] = [title.text.strip() for title in titles]\n",
    "\n",
    "        class_loc = soup.find_all(class_=c_dict['location_class'])\n",
    "        df['Locations'] = [lo.text.strip() for lo in class_loc]\n",
    "        \n",
    "        df['Company'] = c_dict['company']\n",
    "        \n",
    "        big_df = big_df.append(df)\n",
    "    \n",
    "    return(big_df)\n",
    "\n",
    "# list of company dicts\n",
    "c_list = [] \n",
    "\n",
    "\n",
    "# dict for each website\n",
    "dict1 = {  \n",
    "    \"company\": \"Aquicore\",\n",
    "    \"url\": \"https://jobs.lever.co/aquicore\",\n",
    "    \"title_class\": None,\n",
    "    \"title_tag\": 'h5',\n",
    "    \"location_class\": 'sort-by-location'\n",
    "    \"location-tag\": None,\n",
    "}\n",
    "\n",
    "c_list.append(c_dict)\n",
    "\n",
    "dict2 = {  \n",
    "    \"company\": \"TransitScreen\",\n",
    "    \"url\": \"https://jobs.lever.co/transitscreen\",\n",
    "    \"title_tag\": ('h5'),\n",
    "    \"location_class\": 'sort-by-location'\n",
    "}\n",
    "\n",
    "c_list.append(dict2)\n",
    "\n",
    "\n",
    "df_all = get_jobs(c_list)\n",
    "\n",
    "print(df_all)   \n",
    "# TODO write DataFrame to csv - later S3 bucket with timestamp\n",
    "    "
   ]
  },
  {
   "cell_type": "markdown",
   "metadata": {},
   "source": [
    "# Just run from here down (plus imports)"
   ]
  },
  {
   "cell_type": "code",
   "execution_count": 3,
   "metadata": {},
   "outputs": [
    {
     "data": {
      "text/html": [
       "<div>\n",
       "<style scoped>\n",
       "    .dataframe tbody tr th:only-of-type {\n",
       "        vertical-align: middle;\n",
       "    }\n",
       "\n",
       "    .dataframe tbody tr th {\n",
       "        vertical-align: top;\n",
       "    }\n",
       "\n",
       "    .dataframe thead th {\n",
       "        text-align: right;\n",
       "    }\n",
       "</style>\n",
       "<table border=\"1\" class=\"dataframe\">\n",
       "  <thead>\n",
       "    <tr style=\"text-align: right;\">\n",
       "      <th></th>\n",
       "      <th>Company</th>\n",
       "      <th>URL</th>\n",
       "      <th>title_tag</th>\n",
       "      <th>title_class</th>\n",
       "      <th>location_class</th>\n",
       "    </tr>\n",
       "  </thead>\n",
       "  <tbody>\n",
       "    <tr>\n",
       "      <th>0</th>\n",
       "      <td>Aquicore</td>\n",
       "      <td>https://jobs.lever.co/aquicore</td>\n",
       "      <td>h5</td>\n",
       "      <td>NaN</td>\n",
       "      <td>\"sort-by-location\"</td>\n",
       "    </tr>\n",
       "    <tr>\n",
       "      <th>1</th>\n",
       "      <td>TransitScreen</td>\n",
       "      <td>https://jobs.lever.co/transitscreen</td>\n",
       "      <td>h5</td>\n",
       "      <td>NaN</td>\n",
       "      <td>\"sort-by-location\"</td>\n",
       "    </tr>\n",
       "    <tr>\n",
       "      <th>2</th>\n",
       "      <td>Swiftly</td>\n",
       "      <td>https://hire.withgoogle.com/public/jobs/goswiftly</td>\n",
       "      <td>NaN</td>\n",
       "      <td>\"ptor-jobs-list__item-title\"</td>\n",
       "      <td>\"ptor-jobs-list__item-location\"</td>\n",
       "    </tr>\n",
       "    <tr>\n",
       "      <th>3</th>\n",
       "      <td>HopSkipDrive</td>\n",
       "      <td>https://www.hopskipdrive.com/careers</td>\n",
       "      <td>NaN</td>\n",
       "      <td>\"resumator-job-title\"</td>\n",
       "      <td>\"resumator-job-info\"</td>\n",
       "    </tr>\n",
       "  </tbody>\n",
       "</table>\n",
       "</div>"
      ],
      "text/plain": [
       "         Company                                                URL title_tag  \\\n",
       "0       Aquicore                     https://jobs.lever.co/aquicore        h5   \n",
       "1  TransitScreen                https://jobs.lever.co/transitscreen        h5   \n",
       "2        Swiftly  https://hire.withgoogle.com/public/jobs/goswiftly       NaN   \n",
       "3   HopSkipDrive               https://www.hopskipdrive.com/careers       NaN   \n",
       "\n",
       "                    title_class                   location_class  \n",
       "0                           NaN               \"sort-by-location\"  \n",
       "1                           NaN               \"sort-by-location\"  \n",
       "2  \"ptor-jobs-list__item-title\"  \"ptor-jobs-list__item-location\"  \n",
       "3         \"resumator-job-title\"             \"resumator-job-info\"  "
      ]
     },
     "execution_count": 3,
     "metadata": {},
     "output_type": "execute_result"
    }
   ],
   "source": [
    "dc = pd.read_csv('comp_info.csv')\n",
    "dc"
   ]
  },
  {
   "cell_type": "code",
   "execution_count": 8,
   "metadata": {},
   "outputs": [
    {
     "data": {
      "text/html": [
       "<div>\n",
       "<style scoped>\n",
       "    .dataframe tbody tr th:only-of-type {\n",
       "        vertical-align: middle;\n",
       "    }\n",
       "\n",
       "    .dataframe tbody tr th {\n",
       "        vertical-align: top;\n",
       "    }\n",
       "\n",
       "    .dataframe thead th {\n",
       "        text-align: right;\n",
       "    }\n",
       "</style>\n",
       "<table border=\"1\" class=\"dataframe\">\n",
       "  <thead>\n",
       "    <tr style=\"text-align: right;\">\n",
       "      <th></th>\n",
       "      <th>Company</th>\n",
       "      <th>URL</th>\n",
       "      <th>title_tag</th>\n",
       "      <th>title_class</th>\n",
       "      <th>location_class</th>\n",
       "    </tr>\n",
       "  </thead>\n",
       "  <tbody>\n",
       "    <tr>\n",
       "      <th>0</th>\n",
       "      <td>Aquicore</td>\n",
       "      <td>https://jobs.lever.co/aquicore</td>\n",
       "      <td>h5</td>\n",
       "      <td>0</td>\n",
       "      <td>\"sort-by-location\"</td>\n",
       "    </tr>\n",
       "    <tr>\n",
       "      <th>1</th>\n",
       "      <td>TransitScreen</td>\n",
       "      <td>https://jobs.lever.co/transitscreen</td>\n",
       "      <td>h5</td>\n",
       "      <td>0</td>\n",
       "      <td>\"sort-by-location\"</td>\n",
       "    </tr>\n",
       "    <tr>\n",
       "      <th>2</th>\n",
       "      <td>Swiftly</td>\n",
       "      <td>https://hire.withgoogle.com/public/jobs/goswiftly</td>\n",
       "      <td>0</td>\n",
       "      <td>\"ptor-jobs-list__item-title\"</td>\n",
       "      <td>\"ptor-jobs-list__item-location\"</td>\n",
       "    </tr>\n",
       "    <tr>\n",
       "      <th>3</th>\n",
       "      <td>HopSkipDrive</td>\n",
       "      <td>https://www.hopskipdrive.com/careers</td>\n",
       "      <td>0</td>\n",
       "      <td>\"resumator-job-title\"</td>\n",
       "      <td>\"resumator-job-info\"</td>\n",
       "    </tr>\n",
       "  </tbody>\n",
       "</table>\n",
       "</div>"
      ],
      "text/plain": [
       "         Company                                                URL title_tag  \\\n",
       "0       Aquicore                     https://jobs.lever.co/aquicore        h5   \n",
       "1  TransitScreen                https://jobs.lever.co/transitscreen        h5   \n",
       "2        Swiftly  https://hire.withgoogle.com/public/jobs/goswiftly         0   \n",
       "3   HopSkipDrive               https://www.hopskipdrive.com/careers         0   \n",
       "\n",
       "                    title_class                   location_class  \n",
       "0                             0               \"sort-by-location\"  \n",
       "1                             0               \"sort-by-location\"  \n",
       "2  \"ptor-jobs-list__item-title\"  \"ptor-jobs-list__item-location\"  \n",
       "3         \"resumator-job-title\"             \"resumator-job-info\"  "
      ]
     },
     "execution_count": 8,
     "metadata": {},
     "output_type": "execute_result"
    }
   ],
   "source": [
    "dc = dc.fillna(0)\n",
    "dc"
   ]
  },
  {
   "cell_type": "code",
   "execution_count": 55,
   "metadata": {},
   "outputs": [
    {
     "name": "stdout",
     "output_type": "stream",
     "text": [
      "                          Title       Locations   Company\n",
      "0             Account Executive  Washington, DC  Aquicore\n",
      "1           Solutions Architect  Washington, DC  Aquicore\n",
      "2                Data Scientist  Washington, DC  Aquicore\n",
      "3    Embedded Software Engineer  Washington, DC  Aquicore\n",
      "4  Full Stack Software Engineer  Washington, DC  Aquicore\n",
      "5               Product Manager  Washington, DC  Aquicore\n",
      "6              Quality Engineer  Washington, DC  Aquicore\n",
      "7    Technical Support Engineer  Washington, DC  Aquicore\n",
      "                              Title       Locations        Company\n",
      "0                 Account Executive  Washington, DC  TransitScreen\n",
      "1  Sales Development Representative  Washington, DC  TransitScreen\n",
      "2         Senior Front-End Engineer  Washington, DC  TransitScreen\n",
      "                              Title       Locations  Company\n",
      "0                 Account Executive  Washington, DC  Swiftly\n",
      "1  Sales Development Representative  Washington, DC  Swiftly\n",
      "2         Senior Front-End Engineer  Washington, DC  Swiftly\n",
      "                              Title       Locations       Company\n",
      "0                 Account Executive  Washington, DC  HopSkipDrive\n",
      "1  Sales Development Representative  Washington, DC  HopSkipDrive\n",
      "2         Senior Front-End Engineer  Washington, DC  HopSkipDrive\n"
     ]
    },
    {
     "data": {
      "text/html": [
       "<div>\n",
       "<style scoped>\n",
       "    .dataframe tbody tr th:only-of-type {\n",
       "        vertical-align: middle;\n",
       "    }\n",
       "\n",
       "    .dataframe tbody tr th {\n",
       "        vertical-align: top;\n",
       "    }\n",
       "\n",
       "    .dataframe thead th {\n",
       "        text-align: right;\n",
       "    }\n",
       "</style>\n",
       "<table border=\"1\" class=\"dataframe\">\n",
       "  <thead>\n",
       "    <tr style=\"text-align: right;\">\n",
       "      <th></th>\n",
       "      <th>Title</th>\n",
       "      <th>Locations</th>\n",
       "      <th>Company</th>\n",
       "    </tr>\n",
       "  </thead>\n",
       "  <tbody>\n",
       "    <tr>\n",
       "      <th>1</th>\n",
       "      <td>Account Executive</td>\n",
       "      <td>Washington, DC</td>\n",
       "      <td>Aquicore</td>\n",
       "    </tr>\n",
       "    <tr>\n",
       "      <th>2</th>\n",
       "      <td>Solutions Architect</td>\n",
       "      <td>Washington, DC</td>\n",
       "      <td>Aquicore</td>\n",
       "    </tr>\n",
       "    <tr>\n",
       "      <th>3</th>\n",
       "      <td>Data Scientist</td>\n",
       "      <td>Washington, DC</td>\n",
       "      <td>Aquicore</td>\n",
       "    </tr>\n",
       "    <tr>\n",
       "      <th>4</th>\n",
       "      <td>Embedded Software Engineer</td>\n",
       "      <td>Washington, DC</td>\n",
       "      <td>Aquicore</td>\n",
       "    </tr>\n",
       "    <tr>\n",
       "      <th>5</th>\n",
       "      <td>Full Stack Software Engineer</td>\n",
       "      <td>Washington, DC</td>\n",
       "      <td>Aquicore</td>\n",
       "    </tr>\n",
       "    <tr>\n",
       "      <th>6</th>\n",
       "      <td>Product Manager</td>\n",
       "      <td>Washington, DC</td>\n",
       "      <td>Aquicore</td>\n",
       "    </tr>\n",
       "    <tr>\n",
       "      <th>7</th>\n",
       "      <td>Quality Engineer</td>\n",
       "      <td>Washington, DC</td>\n",
       "      <td>Aquicore</td>\n",
       "    </tr>\n",
       "    <tr>\n",
       "      <th>8</th>\n",
       "      <td>Technical Support Engineer</td>\n",
       "      <td>Washington, DC</td>\n",
       "      <td>Aquicore</td>\n",
       "    </tr>\n",
       "    <tr>\n",
       "      <th>9</th>\n",
       "      <td>Account Executive</td>\n",
       "      <td>Washington, DC</td>\n",
       "      <td>TransitScreen</td>\n",
       "    </tr>\n",
       "    <tr>\n",
       "      <th>10</th>\n",
       "      <td>Sales Development Representative</td>\n",
       "      <td>Washington, DC</td>\n",
       "      <td>TransitScreen</td>\n",
       "    </tr>\n",
       "    <tr>\n",
       "      <th>11</th>\n",
       "      <td>Senior Front-End Engineer</td>\n",
       "      <td>Washington, DC</td>\n",
       "      <td>TransitScreen</td>\n",
       "    </tr>\n",
       "    <tr>\n",
       "      <th>12</th>\n",
       "      <td>Account Executive</td>\n",
       "      <td>Washington, DC</td>\n",
       "      <td>Swiftly</td>\n",
       "    </tr>\n",
       "    <tr>\n",
       "      <th>13</th>\n",
       "      <td>Sales Development Representative</td>\n",
       "      <td>Washington, DC</td>\n",
       "      <td>Swiftly</td>\n",
       "    </tr>\n",
       "    <tr>\n",
       "      <th>14</th>\n",
       "      <td>Senior Front-End Engineer</td>\n",
       "      <td>Washington, DC</td>\n",
       "      <td>Swiftly</td>\n",
       "    </tr>\n",
       "    <tr>\n",
       "      <th>15</th>\n",
       "      <td>Account Executive</td>\n",
       "      <td>Washington, DC</td>\n",
       "      <td>HopSkipDrive</td>\n",
       "    </tr>\n",
       "    <tr>\n",
       "      <th>16</th>\n",
       "      <td>Sales Development Representative</td>\n",
       "      <td>Washington, DC</td>\n",
       "      <td>HopSkipDrive</td>\n",
       "    </tr>\n",
       "    <tr>\n",
       "      <th>17</th>\n",
       "      <td>Senior Front-End Engineer</td>\n",
       "      <td>Washington, DC</td>\n",
       "      <td>HopSkipDrive</td>\n",
       "    </tr>\n",
       "  </tbody>\n",
       "</table>\n",
       "</div>"
      ],
      "text/plain": [
       "                               Title       Locations        Company\n",
       "1                  Account Executive  Washington, DC       Aquicore\n",
       "2                Solutions Architect  Washington, DC       Aquicore\n",
       "3                     Data Scientist  Washington, DC       Aquicore\n",
       "4         Embedded Software Engineer  Washington, DC       Aquicore\n",
       "5       Full Stack Software Engineer  Washington, DC       Aquicore\n",
       "6                    Product Manager  Washington, DC       Aquicore\n",
       "7                   Quality Engineer  Washington, DC       Aquicore\n",
       "8         Technical Support Engineer  Washington, DC       Aquicore\n",
       "9                  Account Executive  Washington, DC  TransitScreen\n",
       "10  Sales Development Representative  Washington, DC  TransitScreen\n",
       "11         Senior Front-End Engineer  Washington, DC  TransitScreen\n",
       "12                 Account Executive  Washington, DC        Swiftly\n",
       "13  Sales Development Representative  Washington, DC        Swiftly\n",
       "14         Senior Front-End Engineer  Washington, DC        Swiftly\n",
       "15                 Account Executive  Washington, DC   HopSkipDrive\n",
       "16  Sales Development Representative  Washington, DC   HopSkipDrive\n",
       "17         Senior Front-End Engineer  Washington, DC   HopSkipDrive"
      ]
     },
     "execution_count": 55,
     "metadata": {},
     "output_type": "execute_result"
    }
   ],
   "source": [
    "\n",
    "\n",
    "big_df = pd.DataFrame()\n",
    "\n",
    "for index, row in dc.iterrows():\n",
    "    df = pd.DataFrame()\n",
    "\n",
    "    soup = bs(requests.get(row.URL).content)\n",
    "\n",
    "    if row.title_tag is not 0:\n",
    "        titles = soup.find_all(row.title_tag)\n",
    "        df['Title'] = [title.text.strip() for title in titles]\n",
    "    else:\n",
    "        if row.title_class == \"ptor-jobs-list__item-title\":\n",
    "            \n",
    "            titles = soup.find_all(class_=\"ptor-jobs-list__item-title\")\n",
    "        elif row.title_class == \"resumator-job-title\":\n",
    "            titles = soup.find_all(class_=\"resumator-job-title\")\n",
    "            \n",
    "        df['Title'] = [title.text.strip() for title in titles]\n",
    "        \n",
    "   # if row.location_tag is not np.NaN:\n",
    "   #     locs = soup.find_all(row.location_tag)\n",
    "   #     df['Locations'] = [lo.text.strip() for lo in locs]\n",
    "   # else:\n",
    "    \n",
    "    # I don't know why the class_ is behaving strangely\n",
    "    if row.location_class == '\"sort-by-location\"':\n",
    "        locs = soup.find_all(class_=\"sort-by-location\")\n",
    "        \n",
    "    elif row.location_class == \"ptor-jobs-list__item-location\":\n",
    "        locs = soup.find_all(class_=\"ptor-jobs-list__item-location\")\n",
    "        \n",
    "    elif row.location_class == \"resumator-job-info\":\n",
    "        locs = soup.find_all(class_=row.location_class)\n",
    "    \n",
    "    df['Locations'] = [lo.text.strip() for lo in locs]\n",
    "    \n",
    "    df['Company'] = row.Company\n",
    "    \n",
    "    print(df)\n",
    "    \n",
    "    big_df = big_df.append(df)\n",
    "big_df.index = np.arange(1, len(big_df)+1)\n",
    "big_df\n",
    "    "
   ]
  },
  {
   "cell_type": "code",
   "execution_count": 57,
   "metadata": {},
   "outputs": [],
   "source": [
    "big_df.to_csv('Job_Listings.csv')"
   ]
  },
  {
   "cell_type": "code",
   "execution_count": null,
   "metadata": {},
   "outputs": [],
   "source": []
  }
 ],
 "metadata": {
  "kernelspec": {
   "display_name": "Python 3",
   "language": "python",
   "name": "python3"
  },
  "language_info": {
   "codemirror_mode": {
    "name": "ipython",
    "version": 3
   },
   "file_extension": ".py",
   "mimetype": "text/x-python",
   "name": "python",
   "nbconvert_exporter": "python",
   "pygments_lexer": "ipython3",
   "version": "3.7.2"
  }
 },
 "nbformat": 4,
 "nbformat_minor": 2
}
